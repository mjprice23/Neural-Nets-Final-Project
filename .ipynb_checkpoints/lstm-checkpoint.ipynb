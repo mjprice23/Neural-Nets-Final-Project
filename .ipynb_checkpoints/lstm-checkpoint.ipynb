{
 "cells": [
  {
   "cell_type": "code",
   "execution_count": 1,
   "metadata": {},
   "outputs": [],
   "source": [
    "import tensorflow as tf\n",
    "import pandas as pd\n",
    "from numpy import argmax\n",
    "import matplotlib.pyplot as plt\n",
    "import numpy as np\n",
    "import os\n",
    "from tensorflow.keras import layers"
   ]
  },
  {
   "cell_type": "code",
   "execution_count": 2,
   "metadata": {},
   "outputs": [
    {
     "data": {
      "text/html": [
       "<div>\n",
       "<style scoped>\n",
       "    .dataframe tbody tr th:only-of-type {\n",
       "        vertical-align: middle;\n",
       "    }\n",
       "\n",
       "    .dataframe tbody tr th {\n",
       "        vertical-align: top;\n",
       "    }\n",
       "\n",
       "    .dataframe thead th {\n",
       "        text-align: right;\n",
       "    }\n",
       "</style>\n",
       "<table border=\"1\" class=\"dataframe\">\n",
       "  <thead>\n",
       "    <tr style=\"text-align: right;\">\n",
       "      <th></th>\n",
       "      <th>Playlist Title</th>\n",
       "      <th>Track List</th>\n",
       "    </tr>\n",
       "  </thead>\n",
       "  <tbody>\n",
       "    <tr>\n",
       "      <th>0</th>\n",
       "      <td>newwwww</td>\n",
       "      <td>['Linger', 'Best Friend', 'Wash It Away', 'Fre...</td>\n",
       "    </tr>\n",
       "    <tr>\n",
       "      <th>1</th>\n",
       "      <td>junior year</td>\n",
       "      <td>['Dreams - 2004 Remaster', 'Go Your Own Way - ...</td>\n",
       "    </tr>\n",
       "    <tr>\n",
       "      <th>2</th>\n",
       "      <td>running away</td>\n",
       "      <td>['Closing Time', 'Call Me Maybe', \"Honey, I'm ...</td>\n",
       "    </tr>\n",
       "    <tr>\n",
       "      <th>3</th>\n",
       "      <td>jam</td>\n",
       "      <td>['Go Your Own Way - 2004 Remaster', 'You Reall...</td>\n",
       "    </tr>\n",
       "    <tr>\n",
       "      <th>4</th>\n",
       "      <td>cc/summer'18</td>\n",
       "      <td>['Waves', 'Needles &amp; Pins', 'Firework', 'Ring'...</td>\n",
       "    </tr>\n",
       "  </tbody>\n",
       "</table>\n",
       "</div>"
      ],
      "text/plain": [
       "  Playlist Title                                         Track List\n",
       "0        newwwww  ['Linger', 'Best Friend', 'Wash It Away', 'Fre...\n",
       "1    junior year  ['Dreams - 2004 Remaster', 'Go Your Own Way - ...\n",
       "2   running away  ['Closing Time', 'Call Me Maybe', \"Honey, I'm ...\n",
       "3            jam  ['Go Your Own Way - 2004 Remaster', 'You Reall...\n",
       "4   cc/summer'18  ['Waves', 'Needles & Pins', 'Firework', 'Ring'..."
      ]
     },
     "execution_count": 2,
     "metadata": {},
     "output_type": "execute_result"
    }
   ],
   "source": [
    "data = pd.read_csv(\"playlists.csv\", encoding = \"ISO-8859-1\")\n",
    "data = data.drop('Unnamed: 0', axis=1)\n",
    "data.head()"
   ]
  },
  {
   "cell_type": "code",
   "execution_count": 15,
   "metadata": {},
   "outputs": [
    {
     "name": "stdout",
     "output_type": "stream",
     "text": [
      "<class 'pandas.core.series.Series'>\n"
     ]
    }
   ],
   "source": [
    "titles = data['Playlist Title'].to_string()\n",
    "songs = data['Track List']\n",
    "firstsongs = []\n",
    "\n",
    "chars = sorted(list(set(titles)))\n",
    "char_indices = dict((c,i) for i, c in enumerate(chars))\n",
    "indices_char = dict((i, c) for i, c in enumerate(chars))"
   ]
  },
  {
   "cell_type": "code",
   "execution_count": 12,
   "metadata": {},
   "outputs": [
    {
     "name": "stdout",
     "output_type": "stream",
     "text": [
      "0        ['Linger', 'Best Friend', 'Wash It Away', 'Fre...\n",
      "1        ['Dreams - 2004 Remaster', 'Go Your Own Way - ...\n",
      "2        ['Closing Time', 'Call Me Maybe', \"Honey, I'm ...\n",
      "3        ['Go Your Own Way - 2004 Remaster', 'You Reall...\n",
      "4        ['Waves', 'Needles & Pins', 'Firework', 'Ring'...\n",
      "5        ['Landslide', 'The Sound of Silence - Acoustic...\n",
      "6        ['Leaving, On a Jet Plane - \"Greatest Hits\" Ve...\n",
      "7        ['ANOTHER DAY', 'LOYAL (feat. Drake and Bad Bu...\n",
      "8        ['BACK TO BUSINESS', 'PUB G (feat. Branco & La...\n",
      "9        ['Peanut Butter Jelly', 'Mine, Mine, Mine - Ja...\n",
      "10       ['Listen to Your Heart', 'Growing Up', 'My Her...\n",
      "11       [\"Drunkin' Donuts\", 'Bounds', 'Jovial', 'Drift...\n",
      "12       ['No Retreat', 'Cannot Stop Me', 'Everytime', ...\n",
      "13       ['Summer', 'Random', 'The Plan', 'I Mean It (f...\n",
      "14       ['My Bad', 'Better', 'Talk', 'Eastside (with H...\n",
      "15       ['comethru', '3 Nights', 'Beige', 'King', 'Jac...\n",
      "16       ['Panama', 'Straightjacket', 'Full Circle', 'K...\n",
      "17       ['KOD', 'BRACKETS', '1985 - Intro to âThe Fa...\n",
      "18       ['Back To Life', 'Ride Slow', 'Prosper', 'Look...\n",
      "19       ['Self Care', 'Donald Trump', 'Ladders', \"I'm ...\n",
      "20           ['VVS', 'Pray', 'Louboutin', 'Shorty Ringer']\n",
      "21       ['Lady Killers (feat. Hoodie Allen)', 'Me, Mys...\n",
      "22       ['I Am Defiant', 'Die in This Town', 'Outside'...\n",
      "23       ['The Game of Love (feat. Michelle Branch) - M...\n",
      "24       ['Do It Myself', 'Waar (feat. Munga)', 'Cannot...\n",
      "25       ['Love Shack (Remix)', 'Sweet Caroline', 'All ...\n",
      "26       ['Any Way You Want It', 'Human', 'The Final Co...\n",
      "27       ['Going Nowhere', 'Boardwalk', \"Dance Like No ...\n",
      "28       ['September - Throttle x Earth, Wind & Fire', ...\n",
      "29       ['Alone Together', 'Thnks fr th Mmrs', 'Dance,...\n",
      "                               ...                        \n",
      "9994     ['Around the World', 'Sexy Boy', 'Short Change...\n",
      "9995     ['Love is Blue', 'Whipped Cream', 'Peanuts', '...\n",
      "9996     ['Nana', 'Never Be the Same', 'The Rain Song -...\n",
      "9997                                           ['Amazing']\n",
      "9998     ['Suite Bergamasque, L. 75: III. Clair De Lune...\n",
      "9999     ['El Tango De Roxanne - From \"Moulin Rouge\" So...\n",
      "10000    ['Wild for the Night (feat. Skrillex & Birdy N...\n",
      "10001    ['Starlight', 'Madness', 'Hysteria', 'Endlessl...\n",
      "10002    ['Runway Walk (Bonus) (feat. Brevi)', 'Give It...\n",
      "10003    ['Crazy (feat. Joie Tan)', 'Endlessly', 'How T...\n",
      "10004    ['The Glider', 'Jack Sparrow', \"Da Vinci's Dem...\n",
      "10005    ['Iron Butterfly Theme', 'Tuesday Afternoon (F...\n",
      "10006    ['The Guns of Brixton - Remastered', 'Brown-Ey...\n",
      "10007    ['Love U Better (feat. Lil Wayne & The-Dream)'...\n",
      "10008    ['Egyptic', 'Rock the Casbah - Remastered', 'S...\n",
      "10009    ['BlasÃ© (feat. Future & Rae Sremmurd) - Louis...\n",
      "10010    ['White Houses', 'Kiss Me Slowly', 'Switch', '...\n",
      "10011    ['Enchanted', \"Didn't See It Coming\", 'Blue Ab...\n",
      "10012    ['Northern Lights', 'Lemon to a Knife Fight', ...\n",
      "10013    ['Tempo (feat. Missy Elliott)', 'Boys', 'Fire ...\n",
      "10014    ['Good as Hell', 'Cheetah Tongue', 'This Feeli...\n",
      "10015    ['Summer Days (feat. Macklemore & Patrick Stum...\n",
      "10016    ['Call It Dreaming', 'Oh, What A World', 'Love...\n",
      "10017    ['Eastside (with Halsey & Khalid)', 'Ball For ...\n",
      "10018    [\"Can't Help but Wait\", '1996', 'Moving to New...\n",
      "10019    ['Answering Bell', 'Firecracker', 'Oh My God, ...\n",
      "10020    ['Go Your Own Way', 'Life Is A Highway', 'Coca...\n",
      "10021    ['West Coast', 'Banana Pancakes', 'Carolina', ...\n",
      "10022    ['High Dive', 'Molecules', 'At the Beach', 'He...\n",
      "10023    ['Come Pick Me Up', 'When The Stars Go Blue', ...\n",
      "Name: Track List, Length: 10024, dtype: object\n"
     ]
    }
   ],
   "source": [
    "# tracks = pd.DataFrame(columns=['Track List'])\n",
    "# tracks.append(data['Track List'][0])\n",
    "print(songs)\n",
    "# tracks.applymap(len).idxmax(axis=1)"
   ]
  },
  {
   "cell_type": "code",
   "execution_count": null,
   "metadata": {},
   "outputs": [],
   "source": [
    "# creating x and y data\n",
    "data_X = np.zeros((len(data.index), seqlen, len(chars)), dtype=np.bool)\n",
    "data_Y = np.zeros((len(poemLines), seqlen, len(chars)), dtype=np.bool)"
   ]
  },
  {
   "cell_type": "code",
   "execution_count": null,
   "metadata": {},
   "outputs": [],
   "source": [
    "\n",
    "\n",
    "\n",
    "\n",
    "\n",
    "\n",
    "#all cells below this were for a generator thing I was trying but couldn't figure out\n",
    "\n",
    "\n",
    "\n",
    "\n",
    "\n"
   ]
  },
  {
   "cell_type": "code",
   "execution_count": 4,
   "metadata": {},
   "outputs": [],
   "source": [
    "target = data.pop('Playlist Title')\n",
    "dataset = tf.data.Dataset.from_tensor_slices((train.values, target.values))"
   ]
  },
  {
   "cell_type": "code",
   "execution_count": 5,
   "metadata": {},
   "outputs": [
    {
     "name": "stdout",
     "output_type": "stream",
     "text": [
      "Features: [b\"['Linger', 'Best Friend', 'Wash It Away', 'Free Bird', 'A Little Bit Of Everything', 'State Line', 'Khala My Friend', 'Love Me Please']\"], Target: b'newwwww'\n",
      "Features: [b\"['Dreams - 2004 Remaster', 'Go Your Own Way - 2004 Remaster', 'Songbird - 2004 Remaster', 'Feathered Indians', 'Landslide', 'Talk (feat. Disclosure)', 'Free Spirit', 'Twenty One', 'Tattoos', 'Play It Again', 'Sunrise, Sunburn, Sunset', 'Happy Now', 'Fast Car', 'Tiny Dancer', 'Most People Are Good', 'Vienna', 'Saturday Nights', 'Your Song']\"], Target: b'junior year'\n",
      "Features: [b'[\\'Closing Time\\', \\'Call Me Maybe\\', \"Honey, I\\'m Good.\", \"Hips Don\\'t Lie (feat. Wyclef Jean)\", \\'Unwritten\\', \\'High Hopes\\', \\'Eastside (with Halsey & Khalid)\\', \\'More Than You Know\\', \\'Youngblood\\', \\'Better Now\\', \\'Sunflower - Spider-Man: Into the Spider-Verse\\', \\'Chlorine\\', \\'Remember the Name (feat. Styles of Beyond)\\', \\'I Miss You\\', \\'Every Breath You Take - Remastered 2003\\', \\'I Ran\\', \\'Another Brick in the Wall, Pt. 2\\', \\'Fall\\', \\'Happier\\', \\'Learn to Fly\\', \\'I Don\\\\\\'t Want to Miss a Thing - From \"Armageddon\" Soundtrack\\', \"Don\\'t Look Back In Anger - Remastered\", \\'House of Gold\\', \\'I Want You to Want Me\\', \\'Good Kisser\\', \\'Promises (with Sam Smith)\\', \\'Be Alright\\', \\'Payphone\\', \\'Papaoutai\\', \\'Ta f\\xc3\\x83\\xc2\\xaate\\', \\'tous les m\\xc3\\x83\\xc2\\xaames\\', \\'Alors On Danse - Radio Edit\\', \\'The Middle\\', \\'Formidable\\', \\'Without Me\\', \"when the party\\'s over\", \\'Wow.\\', \\'Saturday Nights\\', \\'Lie To Me (feat. Julia Michaels)\\', \"Rocket Man (I Think It\\'s Going To Be A Long, Long Time)\", \\'Almost (Sweet Music)\\', \\'Dancing With A Stranger (with Normani)\\', \\'One Kiss - Oliver Heldens Remix\\', \\'Girls Like You\\', \\'Good Years\\', \\'Happy Now\\', \\'broken\\', \\'these are my friends\\', \"maybe, i\\'m afraid\", \\'coachella\\']'], Target: b'running away'\n",
      "Features: [b'[\\'Go Your Own Way - 2004 Remaster\\', \\'You Really Got Me - Mono Mix\\', \"We Didn\\'t Start the Fire\", \"She\\'s Always a Woman\", \\'Vienna\\', \\'The Longest Time\\', \"The Downeaster \\'Alexa\\'\", \\'Just What I Needed\\', \\'Bad Moon Rising\\', \\'Fortunate Son\\', \\'All You Need Is Love - Remastered 2009\\', \"Brandy (You\\'re a Fine Girl)\", \\'Hurts So Good\\', \\'TALK ME DOWN\\', \\'Fast Car\\', \\'Breakdown\\', \\'You Might Think\\', \\'Learn to Fly\\', \\'Only the Good Die Young\\', \\'Jack & Diane\\', \\'Tiny Dancer\\', \\'Take It Easy - 2013 Remaster\\', \\'Brown Eyed Girl\\', \"Jessie\\'s Girl\", \\'Piano Man\\', \"Free Fallin\\'\", \\'More Than a Feeling\\', \"Breakfast At Tiffany\\'s\", \\'Daytime Nightime Suffering\\', \\'Most People Are Good\\', \\'Keep The Wolves Away\\', \\'Wagon Wheel\\', \\'One Man Band\\', \\'Southbound\\', \\'In Between\\', \\'Heartache Medication\\', \\'Big, Big Plans\\', \\'We Were\\', \\'White Flag\\']'], Target: b'jam'\n",
      "Features: [b\"['Waves', 'Needles & Pins', 'Firework', 'Ring', 'Alone With You', 'Between the Stars', 'Time', 'Blue (Midnight Version)', 'Smoke & Ash (Midnight Version)', 'Olivia (Bonus Track)', 'Our Way', 'Find You', 'Midnight Flight', 'Like I Did', 'Train', 'For the Day', 'Oh My God', 'Satellite', 'Run', 'Be Scared With Me']\"], Target: b\"cc/summer'18\"\n"
     ]
    }
   ],
   "source": [
    "for feat, targ in dataset.take(5):\n",
    "  print ('Features: {}, Target: {}'.format(feat, targ))"
   ]
  },
  {
   "cell_type": "code",
   "execution_count": 7,
   "metadata": {},
   "outputs": [
    {
     "data": {
      "text/plain": [
       "<tf.Tensor: shape=(10024,), dtype=string, numpy=\n",
       "array([b\"['Linger', 'Best Friend', 'Wash It Away', 'Free Bird', 'A Little Bit Of Everything', 'State Line', 'Khala My Friend', 'Love Me Please']\",\n",
       "       b\"['Dreams - 2004 Remaster', 'Go Your Own Way - 2004 Remaster', 'Songbird - 2004 Remaster', 'Feathered Indians', 'Landslide', 'Talk (feat. Disclosure)', 'Free Spirit', 'Twenty One', 'Tattoos', 'Play It Again', 'Sunrise, Sunburn, Sunset', 'Happy Now', 'Fast Car', 'Tiny Dancer', 'Most People Are Good', 'Vienna', 'Saturday Nights', 'Your Song']\",\n",
       "       b'[\\'Closing Time\\', \\'Call Me Maybe\\', \"Honey, I\\'m Good.\", \"Hips Don\\'t Lie (feat. Wyclef Jean)\", \\'Unwritten\\', \\'High Hopes\\', \\'Eastside (with Halsey & Khalid)\\', \\'More Than You Know\\', \\'Youngblood\\', \\'Better Now\\', \\'Sunflower - Spider-Man: Into the Spider-Verse\\', \\'Chlorine\\', \\'Remember the Name (feat. Styles of Beyond)\\', \\'I Miss You\\', \\'Every Breath You Take - Remastered 2003\\', \\'I Ran\\', \\'Another Brick in the Wall, Pt. 2\\', \\'Fall\\', \\'Happier\\', \\'Learn to Fly\\', \\'I Don\\\\\\'t Want to Miss a Thing - From \"Armageddon\" Soundtrack\\', \"Don\\'t Look Back In Anger - Remastered\", \\'House of Gold\\', \\'I Want You to Want Me\\', \\'Good Kisser\\', \\'Promises (with Sam Smith)\\', \\'Be Alright\\', \\'Payphone\\', \\'Papaoutai\\', \\'Ta f\\xc3\\x83\\xc2\\xaate\\', \\'tous les m\\xc3\\x83\\xc2\\xaames\\', \\'Alors On Danse - Radio Edit\\', \\'The Middle\\', \\'Formidable\\', \\'Without Me\\', \"when the party\\'s over\", \\'Wow.\\', \\'Saturday Nights\\', \\'Lie To Me (feat. Julia Michaels)\\', \"Rocket Man (I Think It\\'s Going To Be A Long, Long Time)\", \\'Almost (Sweet Music)\\', \\'Dancing With A Stranger (with Normani)\\', \\'One Kiss - Oliver Heldens Remix\\', \\'Girls Like You\\', \\'Good Years\\', \\'Happy Now\\', \\'broken\\', \\'these are my friends\\', \"maybe, i\\'m afraid\", \\'coachella\\']',\n",
       "       ...,\n",
       "       b'[\\'West Coast\\', \\'Banana Pancakes\\', \\'Carolina\\', \\'Crash into Me\\', \\'Crazy For You\\', \\'Crush\\', \"Don\\'t Wanna Wake Up\", \\'Ends of the Earth\\', \\'Grace for Saints and Ramblers\\', \\'Heartbeats\\', \\'I Got You\\', \\'Little Wanderer\\', \\'Love And Some Verses\\', \\'Only Love\\', \\'Resurrection Fern\\', \\'Satellite\\', \\'Seven\\', \\'Skinny Love\\', \\'Wild Love - Acoustic\\', \\'Beyond\\']',\n",
       "       b'[\\'High Dive\\', \\'Molecules\\', \\'At the Beach\\', \\'Here Comes The Sun - Remastered 2009\\', \\'Dreams\\', \\'E-Pro\\', \\'Carolina\\', \\'XO\\', \\'Like a River Runs\\', \\'Stay A Little Longer\\', \\'Miracle Mile\\', \\'Portable Television\\', \\'The Ghosts of Beverly Drive\\', \\'Magnets\\', \\'Sun Shy\\', \\'Celeste\\', \\'Songs About Angels\\', \\'Trust Me\\', \\'Make a Move\\', \\'Blame It on Me\\', \\'Lost in My Mind\\', \\'Another Story\\', \\'Jesus Was A Crossmaker\\', \\'Sedona\\', \\'Grace for Saints and Ramblers\\', \\'Dreamer\\', \\'The Mixed Tape\\', \\'Hammers and Strings (A Lullaby)\\', \\'Let It Go\\', \\'California (Cast Iron Soul)\\', \\'Sleeping to Dream - Live at the Eagles Ballroom, Milwaukee, WI, 10/28/2003\\', \"One Fast Move Or I\\'m Gone\", \\'Save Room\\', \\'My Stupid Mouth\\', \"Don\\'t Let It Get You Down\", \\'Summertime Romance\\', \\'White Flag\\', \\'Little Talks\\', \\'This Is The Last Time\\', \\'On Top\\', \\'Manhattan\\', \\'Falling In\\', \\'Ribs\\', \\'Cleopatra\\', \\'Paris\\', \\'Fire & Rain\\', \\'Nothing Left to Lose\\', \\'Load Me Up\\', \\'Come On Get Higher\\', \\'To The Beat Of Our Noisy Hearts\\', \\'The Wolf\\', \\'In Your Arms\\', \\'Mountain Sound\\', \"Fare Thee Well (Dink\\'s Song)\", \\'Golden\\', \\'Weekend\\', \\'Hollywood\\', \\'Cold Cold Man\\', \\'Latch - Acoustic\\', \\'Stroke Of Luck\\', \\'Geronimo\\', \\'Dreaming\\', \\'Chocolate\\', \\'Open Your Eyes\\', \\'I Woke Up In A Car\\', \\'Make Me Wanna\\', \\'Square One\\', \\'Changing Of The Seasons\\', \\'Sink Or Swim\\', \\'Mess Is Mine\\', \\'Breaking Up My Bones\\', \"(If You\\'re Wondering If I Want You To) I Want You To\", \\'Colour\\', \\'OutRight\\', \\'Down On My Head\\', \\'One Year, Six Months\\', \\'We Come Running\\', \\'Worlds on Fire\\', \\'Sound\\', \\'Hurt Me Tomorrow\\', \\'Marching Bands\\', \\'Snack Attack\\', \\'Take Over the World\\', \\'Ends of the Earth\\', \\'You + Me + the Radio\\', \\'Back to You\\', \\'Upside Down\\', \\'Leaving On The 5th\\', \\'Paint a Picture\\', \\'Fools\\', \\'St. Croix\\', \\'Forever on Your Side (feat. Kina Grannis)\\', \\'In the Summer\\', \\'All We Ever Knew\\', \\'Tell Me What You Want from Me\\', \\'Elevate\\', \\'Dancing On Glass\\', \\'Villains\\', \\'Mr. Rodriguez\\', \"Don\\'t Wanna Wake Up\"]',\n",
       "       b'[\\'Come Pick Me Up\\', \\'When The Stars Go Blue\\', \\'The Feast and The Famine\\', \\'Something from Nothing\\', \\'Cough Syrup\\', \\'Shut Up and Dance\\', \\'Rollercoaster\\', \\'Kathleen\\', \\'Into The Airwaves\\', \\'Dark Blue\\', \\'The Mixed Tape\\', \\'The Resolution\\', \\'Drop Out - The so Unknown\\', \\'Over My Head (Cable Car)\\', \\'So Damn Lucky\\', \\'R U Mine?\\', \\'Stay or Leave - Live at Radio City Music Hall, New York, NY - April 2007\\', \\'Crush - Live at Radio City Music Hall, New York, NY - April 2007\\', \\'Crash Into Me - Live at Radio City Music Hall, New York, NY - April 2007\\', \\'Grace Is Gone - Live at Radio City Music Hall, New York, NY - April 2007\\', \\'Two Step - Live at Radio City Music Hall, New York, NY - April 2007\\', \\'Big Me\\', \\'Wheels\\', \\'DOA\\', \\'My Hero\\', \\'Everlong\\', \\'Learn to Fly\\', \\'Times Like These\\', \\'Best of You\\', \\'These Days\\', \\'Walk\\', \\'Just Breathe\\', \\'Flagpole Sitta\\', \\'Good\\', \\'Shimmer\\', \\'Leave The Night On\\', \\'In Your Arms\\', \\'Cool Kids\\', \\'Thunder Clatter\\', \"I\\'m Not Over\", \\'Hotel Roosevelt\\', \\'Stars and Boulevards\\', \\'Meet You There\\', \\'Sweet and Low - New Album Version\\', \\'Why Georgia\\', \\'My Stupid Mouth\\', \\'No Such Thing\\', \\'New Deep\\', \\'Bigger Than My Body\\', \\'Princess\\', \\'Curve of the Earth\\', \\'To The Beat Of Our Noisy Hearts\\', \\'Gone\\', \\'Car Crash\\', \\'Shiver\\', \\'Believe\\', \\'Sugar\\', \\'Cecilia And The Satellite\\', \\'Canyon Moon\\', \\'Sugar Blue\\', \\'I Wish (feat. T.I.)\\', \\'Charlie Brown\\', \\'Every Teardrop Is a Waterfall\\', \\'Shake Me Like a Monkey\\', \\'Why I Am\\', \\'Seven\\', \\'Two Step\\', \\'Tripping Billies\\', \\'Two Step - Live at Continental Airlines Arena, East Rutherford, NJ - September 1999\\', \\'No Room in Frame\\', \\'Black Sun\\', \\'The Ghosts of Beverly Drive\\', \\'Little Wanderer\\', \\'You Are A Tourist\\', \\'Portable Television\\', \\'Underneath The Sycamore\\', \\'Stay Young, Go Dancing\\', \\'Photobooth\\', \\'405 (Acoustic)\\', \\'Title And Registration\\', \\'The Sound Of Settling\\', \"Here\\'s to the Night\", \\'Hey Jealousy\\', \\'Follow You Down\\', \\'The High Road\\', \\'Holding on for Life\\', \\'The Ghost Inside\\', \\'After the Disco\\', \\'New Slang\\', \\'Simple Song\\', \\'Australia\\', \\'Such Great Heights\\', \\'Grace for Saints and Ramblers\\', \\'Arrows (feat. Macklemore & Ryan Lewis)\\', \\'Songs About Angels\\', \"One Fast Move Or I\\'m Gone\", \\'Lazy Eye\\', \\'Panic Switch\\', \\'Dreaming\\', \\'Mason Jar\\']'],\n",
       "      dtype=object)>"
      ]
     },
     "execution_count": 7,
     "metadata": {},
     "output_type": "execute_result"
    }
   ],
   "source": [
    "tf.constant(train['Track List'])"
   ]
  },
  {
   "cell_type": "code",
   "execution_count": 8,
   "metadata": {},
   "outputs": [],
   "source": [
    "train_dataset = dataset.shuffle(len(train)).batch(1)"
   ]
  },
  {
   "cell_type": "code",
   "execution_count": 9,
   "metadata": {},
   "outputs": [],
   "source": [
    "def make_generator_model():\n",
    "    model = tf.keras.Sequential()\n",
    "    model.add(layers.Dense(7*7*256, use_bias=False, input_shape=(100,)))\n",
    "    model.add(layers.BatchNormalization())\n",
    "    model.add(layers.LeakyReLU())\n",
    "\n",
    "    model.add(layers.Reshape((7, 7, 256)))\n",
    "    assert model.output_shape == (None, 7, 7, 256) # Note: None is the batch size\n",
    "\n",
    "    model.add(layers.Conv2DTranspose(128, (5, 5), strides=(1, 1), padding='same', use_bias=False))\n",
    "    assert model.output_shape == (None, 7, 7, 128)\n",
    "    model.add(layers.BatchNormalization())\n",
    "    model.add(layers.LeakyReLU())\n",
    "\n",
    "    model.add(layers.Conv2DTranspose(64, (5, 5), strides=(2, 2), padding='same', use_bias=False))\n",
    "    assert model.output_shape == (None, 14, 14, 64)\n",
    "    model.add(layers.BatchNormalization())\n",
    "    model.add(layers.LeakyReLU())\n",
    "\n",
    "    model.add(layers.Conv2DTranspose(1, (5, 5), strides=(2, 2), padding='same', use_bias=False, activation='tanh'))\n",
    "    assert model.output_shape == (None, 28, 28, 1)\n",
    "\n",
    "    return model"
   ]
  },
  {
   "cell_type": "code",
   "execution_count": null,
   "metadata": {},
   "outputs": [],
   "source": [
    "generator = make_generator_model()\n",
    "\n",
    "noise = tf.random.normal([1, 100])\n",
    "generated_image = generator(noise, training=False)\n",
    "\n",
    "plt.imshow(generated_image[0, :, :, 0], cmap='gray')"
   ]
  }
 ],
 "metadata": {
  "kernelspec": {
   "display_name": "Python 3",
   "language": "python",
   "name": "python3"
  },
  "language_info": {
   "codemirror_mode": {
    "name": "ipython",
    "version": 3
   },
   "file_extension": ".py",
   "mimetype": "text/x-python",
   "name": "python",
   "nbconvert_exporter": "python",
   "pygments_lexer": "ipython3",
   "version": "3.7.2"
  }
 },
 "nbformat": 4,
 "nbformat_minor": 2
}
