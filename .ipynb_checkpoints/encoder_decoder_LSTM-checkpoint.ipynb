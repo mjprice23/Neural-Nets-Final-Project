{
 "cells": [
  {
   "cell_type": "code",
   "execution_count": 4,
   "metadata": {},
   "outputs": [],
   "source": [
    "import pandas as pd\n",
    "import numpy as np\n",
    "import os\n",
    "import string\n",
    "from sklearn.model_selection import train_test_split\n",
    "from keras.layers import LSTM, Embedding, Input, Dropout, Dense, Activation\n",
    "from keras.models import Model, Sequential\n",
    "from keras.utils import np_utils"
   ]
  },
  {
   "cell_type": "code",
   "execution_count": 2,
   "metadata": {},
   "outputs": [
    {
     "data": {
      "text/html": [
       "<div>\n",
       "<style scoped>\n",
       "    .dataframe tbody tr th:only-of-type {\n",
       "        vertical-align: middle;\n",
       "    }\n",
       "\n",
       "    .dataframe tbody tr th {\n",
       "        vertical-align: top;\n",
       "    }\n",
       "\n",
       "    .dataframe thead th {\n",
       "        text-align: right;\n",
       "    }\n",
       "</style>\n",
       "<table border=\"1\" class=\"dataframe\">\n",
       "  <thead>\n",
       "    <tr style=\"text-align: right;\">\n",
       "      <th></th>\n",
       "      <th>Playlist Title</th>\n",
       "      <th>Track List</th>\n",
       "    </tr>\n",
       "  </thead>\n",
       "  <tbody>\n",
       "    <tr>\n",
       "      <th>0</th>\n",
       "      <td>newwwww</td>\n",
       "      <td>['Linger', 'Best Friend', 'Wash It Away', 'Fre...</td>\n",
       "    </tr>\n",
       "    <tr>\n",
       "      <th>1</th>\n",
       "      <td>junior year</td>\n",
       "      <td>['Dreams - 2004 Remaster', 'Go Your Own Way - ...</td>\n",
       "    </tr>\n",
       "    <tr>\n",
       "      <th>2</th>\n",
       "      <td>running away</td>\n",
       "      <td>['Closing Time', 'Call Me Maybe', \"Honey, I'm ...</td>\n",
       "    </tr>\n",
       "    <tr>\n",
       "      <th>3</th>\n",
       "      <td>jam</td>\n",
       "      <td>['Go Your Own Way - 2004 Remaster', 'You Reall...</td>\n",
       "    </tr>\n",
       "    <tr>\n",
       "      <th>4</th>\n",
       "      <td>cc/summer'18</td>\n",
       "      <td>['Waves', 'Needles &amp; Pins', 'Firework', 'Ring'...</td>\n",
       "    </tr>\n",
       "  </tbody>\n",
       "</table>\n",
       "</div>"
      ],
      "text/plain": [
       "  Playlist Title                                         Track List\n",
       "0        newwwww  ['Linger', 'Best Friend', 'Wash It Away', 'Fre...\n",
       "1    junior year  ['Dreams - 2004 Remaster', 'Go Your Own Way - ...\n",
       "2   running away  ['Closing Time', 'Call Me Maybe', \"Honey, I'm ...\n",
       "3            jam  ['Go Your Own Way - 2004 Remaster', 'You Reall...\n",
       "4   cc/summer'18  ['Waves', 'Needles & Pins', 'Firework', 'Ring'..."
      ]
     },
     "execution_count": 2,
     "metadata": {},
     "output_type": "execute_result"
    }
   ],
   "source": [
    "data = pd.read_csv(\"playlists.csv\", encoding = \"ISO-8859-1\")\n",
    "data = data.drop('Unnamed: 0', axis=1)\n",
    "data.head()"
   ]
  },
  {
   "cell_type": "code",
   "execution_count": 5,
   "metadata": {},
   "outputs": [
    {
     "data": {
      "text/html": [
       "<div>\n",
       "<style scoped>\n",
       "    .dataframe tbody tr th:only-of-type {\n",
       "        vertical-align: middle;\n",
       "    }\n",
       "\n",
       "    .dataframe tbody tr th {\n",
       "        vertical-align: top;\n",
       "    }\n",
       "\n",
       "    .dataframe thead th {\n",
       "        text-align: right;\n",
       "    }\n",
       "</style>\n",
       "<table border=\"1\" class=\"dataframe\">\n",
       "  <thead>\n",
       "    <tr style=\"text-align: right;\">\n",
       "      <th></th>\n",
       "      <th>Playlist Title</th>\n",
       "      <th>Track List</th>\n",
       "    </tr>\n",
       "  </thead>\n",
       "  <tbody>\n",
       "    <tr>\n",
       "      <th>0</th>\n",
       "      <td>newwwww</td>\n",
       "      <td>Linger Best Friend Wash It Away Free Bird A Li...</td>\n",
       "    </tr>\n",
       "    <tr>\n",
       "      <th>1</th>\n",
       "      <td>junior year</td>\n",
       "      <td>Dreams  2004 Remaster Go Your Own Way  2004 Re...</td>\n",
       "    </tr>\n",
       "    <tr>\n",
       "      <th>2</th>\n",
       "      <td>running away</td>\n",
       "      <td>Closing Time Call Me Maybe Honey Im Good Hips ...</td>\n",
       "    </tr>\n",
       "    <tr>\n",
       "      <th>3</th>\n",
       "      <td>jam</td>\n",
       "      <td>Go Your Own Way  2004 Remaster You Really Got ...</td>\n",
       "    </tr>\n",
       "    <tr>\n",
       "      <th>4</th>\n",
       "      <td>ccsummer18</td>\n",
       "      <td>Waves Needles  Pins Firework Ring Alone With Y...</td>\n",
       "    </tr>\n",
       "  </tbody>\n",
       "</table>\n",
       "</div>"
      ],
      "text/plain": [
       "  Playlist Title                                         Track List\n",
       "0        newwwww  Linger Best Friend Wash It Away Free Bird A Li...\n",
       "1    junior year  Dreams  2004 Remaster Go Your Own Way  2004 Re...\n",
       "2   running away  Closing Time Call Me Maybe Honey Im Good Hips ...\n",
       "3            jam  Go Your Own Way  2004 Remaster You Really Got ...\n",
       "4     ccsummer18  Waves Needles  Pins Firework Ring Alone With Y..."
      ]
     },
     "execution_count": 5,
     "metadata": {},
     "output_type": "execute_result"
    }
   ],
   "source": [
    "exclude = set(string.punctuation)\n",
    "data['Playlist Title'] = data['Playlist Title'].apply(lambda x : ''.join(ch for ch in x if ch not in exclude))\n",
    "data['Track List'] = data['Track List'].apply(lambda x : ''.join(ch for ch in x if ch not in exclude))\n",
    "data.head()"
   ]
  },
  {
   "cell_type": "code",
   "execution_count": 6,
   "metadata": {},
   "outputs": [],
   "source": [
    "data['Playlist Title'] = data['Playlist Title'].apply(lambda x : 'START_ ' + x + ' _END')"
   ]
  },
  {
   "cell_type": "code",
   "execution_count": 7,
   "metadata": {},
   "outputs": [],
   "source": [
    "titles = data['Playlist Title'].to_list()\n",
    "tracks = data['Track List'].to_list()"
   ]
  },
  {
   "cell_type": "code",
   "execution_count": 8,
   "metadata": {},
   "outputs": [],
   "source": [
    "title_words = set()\n",
    "for title in titles:\n",
    "    for word in title.split():\n",
    "        title_words.add(word)\n",
    "\n",
    "track_words = set()\n",
    "for track in tracks:\n",
    "    for word in track.split():\n",
    "        track_words.add(word)"
   ]
  },
  {
   "cell_type": "code",
   "execution_count": 9,
   "metadata": {},
   "outputs": [
    {
     "name": "stdout",
     "output_type": "stream",
     "text": [
      "8714\n",
      "55943\n"
     ]
    }
   ],
   "source": [
    "print(len(title_words))\n",
    "print(len(track_words))"
   ]
  },
  {
   "cell_type": "code",
   "execution_count": 10,
   "metadata": {},
   "outputs": [],
   "source": [
    "input_words = sorted(list(track_words))\n",
    "target_words = sorted(list(title_words))\n",
    "num_encoder_tokens = len(track_words)\n",
    "num_decoder_tokens = len(title_words)+1"
   ]
  },
  {
   "cell_type": "code",
   "execution_count": 11,
   "metadata": {},
   "outputs": [],
   "source": [
    "input_token_index = dict([(word, i+1) for i, word in enumerate(input_words)])\n",
    "target_token_index = dict([(word, i+1) for i, word in enumerate(target_words)])"
   ]
  },
  {
   "cell_type": "code",
   "execution_count": 12,
   "metadata": {},
   "outputs": [],
   "source": [
    "reverse_input_char_index = dict((i, word) for word, i in input_token_index.items())\n",
    "reverse_target_char_index = dict((i, word) for word, i in target_token_index.items())"
   ]
  },
  {
   "cell_type": "code",
   "execution_count": 14,
   "metadata": {},
   "outputs": [
    {
     "data": {
      "text/plain": [
       "((9021,), (1003,))"
      ]
     },
     "execution_count": 14,
     "metadata": {},
     "output_type": "execute_result"
    }
   ],
   "source": [
    "x,y = data['Track List'], data['Playlist Title']\n",
    "x_train,x_test, y_train, y_test = train_test_split(x, y, test_size=0.1)\n",
    "x_train.shape, x_test.shape"
   ]
  },
  {
   "cell_type": "code",
   "execution_count": 15,
   "metadata": {},
   "outputs": [],
   "source": [
    "def gen_batch(x=x_train, y=y_train, batch_size=128):\n",
    "    while True:\n",
    "        for i in range(0,len(x),batch_size):\n",
    "            encoder_input_data = np.zeros((batch_size, 1000), dtype='float32')\n",
    "            decoder_input_data = np.zeros((batch_size, 10), dtype='float32')\n",
    "            decoder_target_data = np.zeros((batch_size, 10, num_decoder_tokens), dtype='float32')\n",
    "            for j,(input_text, target_text) in enumerate(zip(x[i:i+batch_size], y[i:i+batch_size])):\n",
    "                for t,word in enumerate(input_text.split()):\n",
    "                    encoder_input_data[i,t]=input_token_index[word]\n",
    "                for t,word in enumerate(target_text.split()):\n",
    "                    if t < len(target_text.split())-1:\n",
    "                        decoder_input_data[i,t]=target_token_index[word]\n",
    "                    if t > 0:\n",
    "                        decoder_target_data[i, t-1, target_token_index[word]]=1\n",
    "            yield([encoder_input_data, decoder_input_data],decoder_target_data)"
   ]
  },
  {
   "cell_type": "code",
   "execution_count": 16,
   "metadata": {},
   "outputs": [],
   "source": [
    "#encoder\n",
    "latent_dim = 64\n",
    "encoder_inputs = Input(shape=(None,))\n",
    "enc_embed = Embedding(num_encoder_tokens, latent_dim, mask_zero = True)(encoder_inputs)\n",
    "encoder_lstm = LSTM(latent_dim, return_state = True)\n",
    "encoder_outputs, state_h, state_c = encoder_lstm(enc_embed)\n",
    "encoder_states = [state_h, state_c]"
   ]
  },
  {
   "cell_type": "code",
   "execution_count": 17,
   "metadata": {},
   "outputs": [],
   "source": [
    "#decoder\n",
    "decoder_inputs = Input(shape=(None,))\n",
    "dec_embed_layer = Embedding(num_decoder_tokens, latent_dim, mask_zero=True)\n",
    "dec_embed = dec_embed_layer(decoder_inputs)\n",
    "\n",
    "decoder_lstm = LSTM(latent_dim, return_sequences=True, return_state=True)\n",
    "decoder_outputs, _, _ = decoder_lstm(dec_embed, initial_state=encoder_states)\n",
    "decoder_dense_layer = Dense(num_decoder_tokens, activation = 'softmax')\n",
    "decoder_outputs = decoder_dense_layer(decoder_outputs)\n",
    "\n",
    "model = Model([encoder_inputs, decoder_inputs], decoder_outputs)"
   ]
  },
  {
   "cell_type": "code",
   "execution_count": 18,
   "metadata": {},
   "outputs": [],
   "source": [
    "model.compile(optimizer='rmsprop', loss='categorical_crossentropy')"
   ]
  },
  {
   "cell_type": "code",
   "execution_count": 19,
   "metadata": {},
   "outputs": [],
   "source": [
    "encoder_model = Model(encoder_inputs, encoder_states)\n",
    "\n",
    "decoder_states_inputs = [Input(shape=(latent_dim,)),Input(shape=(latent_dim,))]\n",
    "dec_embed2=dec_embed_layer(decoder_inputs)\n",
    "\n",
    "decoder_outputs2,state_h2,state_c2 = decoder_lstm(dec_embed2, initial_state=decoder_states_inputs)\n",
    "decoder_states2 = [state_h2,state_c2]\n",
    "decoder_outputs2 = decoder_dense_layer(decoder_outputs2)\n",
    "\n",
    "decoder_model = Model([decoder_inputs]+decoder_states_inputs,[decoder_outputs2]+decoder_states2)"
   ]
  },
  {
   "cell_type": "code",
   "execution_count": 20,
   "metadata": {},
   "outputs": [],
   "source": [
    "def decode_seq(input_seq):\n",
    "    states_value = encoder_model.predict(input_seq)\n",
    "    target_seq = np.zeros((1,1))\n",
    "    target_seq[0,0] = target_token_index['START_']\n",
    "    \n",
    "    stop = False\n",
    "    decoded = ''\n",
    "    \n",
    "    while not stop:\n",
    "        output_tokens,h,c = decoder_model.predict([target_seq]+states_value)\n",
    "        \n",
    "        sample_token_index = np.argmax(output_tokens[0,-1,:])\n",
    "        sample_char = reverse_target_char_index[sample_token_index]\n",
    "        decoded += ' ' + sample_char\n",
    "        \n",
    "        if (sample_char=='_END' or len(decoded)>50):\n",
    "            stop = True\n",
    "        \n",
    "        target_seq = np.zeros((1,1))\n",
    "        target_seq[0,0] = sample_token_index\n",
    "        \n",
    "        states_value=[h,c]\n",
    "        \n",
    "    return decoded"
   ]
  },
  {
   "cell_type": "code",
   "execution_count": 21,
   "metadata": {
    "scrolled": true
   },
   "outputs": [],
   "source": [
    "train_gen = gen_batch(x_train,y_train,batch_size=1)\n",
    "k=-1"
   ]
  },
  {
   "cell_type": "code",
   "execution_count": 22,
   "metadata": {},
   "outputs": [
    {
     "name": "stdout",
     "output_type": "stream",
     "text": [
      "Tracks: In the grace of wit of tongue and face The Passionate Shepherd Marlowe My mistress eyes are nothing like the sun The Kiss Well It Is Finished Bright Star A Party of Lovers Unending Love The Flame of Love Those lips that Loves own hand did make Love Is Not All Andrew Marvell  To His Coy Mistress How Do I Love Thee Emily Bronte  How Clear She Shines The Mess Of Love Figs Gloire De Dijon The First Kiss of Love by Lord Byron In the Safety of Your Mouth Sir Phillip Sidney  My True Love Hath My Heart One Day I Wrote Her Name by Edmund Spenser Lucy Lucy Gray  by William Wordsworth Ben Jonson  To Celia Romeo and Juliet  Wilt Thou Be Gone It Is Not Yet Near Day Romeo and Juliet  What light in yonder window Timing Her Sweetest Love I Do Not Go The Love Song Love by Khalil Gibran Poetic Essay Lovers Sweet love renew thy force be it not said In faith I do not love thee with mine eyes Love When in disgrace with fortune and mens eyes Sighs If our sad eyes Sighs If our sad eyes\n",
      "Actual Playlist Title:  Love Poems \n",
      "Predicted Playlist Title:  gg Hey Staley Guitar JazzAppreciationMonth L L vicario\n"
     ]
    }
   ],
   "source": [
    "k+=1\n",
    "(input_seq,actual_output),_=next(train_gen)\n",
    "decoded=decode_seq(input_seq)\n",
    "print('Tracks:', x_train[k:k+1].values[0])\n",
    "print('Actual Playlist Title:', y_train[k:k+1].values[0][6:-4])\n",
    "print('Predicted Playlist Title:', decoded[:-4])"
   ]
  },
  {
   "cell_type": "code",
   "execution_count": null,
   "metadata": {},
   "outputs": [],
   "source": []
  }
 ],
 "metadata": {
  "kernelspec": {
   "display_name": "Python 3",
   "language": "python",
   "name": "python3"
  },
  "language_info": {
   "codemirror_mode": {
    "name": "ipython",
    "version": 3
   },
   "file_extension": ".py",
   "mimetype": "text/x-python",
   "name": "python",
   "nbconvert_exporter": "python",
   "pygments_lexer": "ipython3",
   "version": "3.7.2"
  }
 },
 "nbformat": 4,
 "nbformat_minor": 2
}
