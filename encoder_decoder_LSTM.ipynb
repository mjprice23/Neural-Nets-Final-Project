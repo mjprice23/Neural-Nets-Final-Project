{
 "cells": [
  {
   "cell_type": "markdown",
   "metadata": {},
   "source": [
    "**Playlist Title Prediction with NMT using Encoder-Decoder LSTM model** by Chelsea Vickers and Mallory Price"
   ]
  },
  {
   "cell_type": "code",
   "execution_count": 9,
   "metadata": {},
   "outputs": [],
   "source": [
    "import pandas as pd\n",
    "import numpy as np\n",
    "import os, string\n",
    "from sklearn.model_selection import train_test_split\n",
    "from sklearn.utils import shuffle\n",
    "from keras.layers import LSTM, Embedding, Input, Dense\n",
    "from keras.models import Model"
   ]
  },
  {
   "cell_type": "code",
   "execution_count": 2,
   "metadata": {
    "scrolled": true
   },
   "outputs": [
    {
     "data": {
      "text/html": [
       "<div>\n",
       "<style scoped>\n",
       "    .dataframe tbody tr th:only-of-type {\n",
       "        vertical-align: middle;\n",
       "    }\n",
       "\n",
       "    .dataframe tbody tr th {\n",
       "        vertical-align: top;\n",
       "    }\n",
       "\n",
       "    .dataframe thead th {\n",
       "        text-align: right;\n",
       "    }\n",
       "</style>\n",
       "<table border=\"1\" class=\"dataframe\">\n",
       "  <thead>\n",
       "    <tr style=\"text-align: right;\">\n",
       "      <th></th>\n",
       "      <th>Playlist Title</th>\n",
       "      <th>Track List</th>\n",
       "    </tr>\n",
       "  </thead>\n",
       "  <tbody>\n",
       "    <tr>\n",
       "      <td>0</td>\n",
       "      <td>newwwww</td>\n",
       "      <td>['Linger', 'Best Friend', 'Wash It Away', 'Fre...</td>\n",
       "    </tr>\n",
       "    <tr>\n",
       "      <td>1</td>\n",
       "      <td>junior year</td>\n",
       "      <td>['Dreams - 2004 Remaster', 'Go Your Own Way - ...</td>\n",
       "    </tr>\n",
       "    <tr>\n",
       "      <td>2</td>\n",
       "      <td>running away</td>\n",
       "      <td>['Closing Time', 'Call Me Maybe', \"Honey, I'm ...</td>\n",
       "    </tr>\n",
       "    <tr>\n",
       "      <td>3</td>\n",
       "      <td>jam</td>\n",
       "      <td>['Go Your Own Way - 2004 Remaster', 'You Reall...</td>\n",
       "    </tr>\n",
       "    <tr>\n",
       "      <td>4</td>\n",
       "      <td>cc/summer'18</td>\n",
       "      <td>['Waves', 'Needles &amp; Pins', 'Firework', 'Ring'...</td>\n",
       "    </tr>\n",
       "  </tbody>\n",
       "</table>\n",
       "</div>"
      ],
      "text/plain": [
       "  Playlist Title                                         Track List\n",
       "0        newwwww  ['Linger', 'Best Friend', 'Wash It Away', 'Fre...\n",
       "1    junior year  ['Dreams - 2004 Remaster', 'Go Your Own Way - ...\n",
       "2   running away  ['Closing Time', 'Call Me Maybe', \"Honey, I'm ...\n",
       "3            jam  ['Go Your Own Way - 2004 Remaster', 'You Reall...\n",
       "4   cc/summer'18  ['Waves', 'Needles & Pins', 'Firework', 'Ring'..."
      ]
     },
     "execution_count": 2,
     "metadata": {},
     "output_type": "execute_result"
    }
   ],
   "source": [
    "#read data from csv into pandas df\n",
    "data = pd.read_csv(\"../Neural-Nets-Final-Project/spotify.csv\", encoding = \"ISO-8859-1\")\n",
    "data.head()"
   ]
  },
  {
   "cell_type": "code",
   "execution_count": 3,
   "metadata": {},
   "outputs": [],
   "source": [
    "#preprocessing\n",
    "\n",
    "#remove punctuation from titles and tracks\n",
    "exclude = set(string.punctuation)\n",
    "data['Playlist Title'] = data['Playlist Title'].apply(lambda x : ''.join(ch for ch in x if ch not in exclude))\n",
    "data['Track List'] = data['Track List'].apply(lambda x : ''.join(ch for ch in x if ch not in exclude))\n",
    "\n",
    "#make all characters lowercase\n",
    "data['Playlist Title'] = data['Playlist Title'].apply(lambda x : x.lower())\n",
    "data['Track List'] = data['Track List'].apply(lambda x : x.lower())\n",
    "\n",
    "#add start and end tokens to the target titles\n",
    "data['Playlist Title'] = data['Playlist Title'].apply(lambda x : 'START_ ' + x + ' _END')\n",
    "\n",
    "#get lists of the titles and tracks from the pandas df\n",
    "titles = data['Playlist Title'].to_list()\n",
    "tracks = data['Track List'].to_list()"
   ]
  },
  {
   "cell_type": "code",
   "execution_count": 4,
   "metadata": {},
   "outputs": [],
   "source": [
    "#get title and track vocabularies\n",
    "\n",
    "title_words = set()\n",
    "for title in titles:\n",
    "    for word in title.split():\n",
    "        title_words.add(word)\n",
    "\n",
    "track_words = set()\n",
    "for track in tracks:\n",
    "    for word in track.split():\n",
    "        track_words.add(word)"
   ]
  },
  {
   "cell_type": "code",
   "execution_count": 5,
   "metadata": {},
   "outputs": [],
   "source": [
    "# Max Length of track list\n",
    "max_len_tracks = 0\n",
    "for l in data['Track List']:\n",
    "    if len(l.split(' ')) > max_len_tracks:\n",
    "        max_len_tracks = len(l.split(' '))\n",
    "\n",
    "# Max Length of title\n",
    "max_len_title = 0\n",
    "for l in data['Playlist Title']:\n",
    "    if len(l.split(' ')) > max_len_title:\n",
    "        max_len_title = len(l.split(' '))"
   ]
  },
  {
   "cell_type": "code",
   "execution_count": 6,
   "metadata": {},
   "outputs": [],
   "source": [
    "input_words = sorted(list(track_words))\n",
    "target_words = sorted(list(title_words))\n",
    "num_encoder_tokens = len(track_words)\n",
    "num_decoder_tokens = len(title_words)+1 # +1 for zero-padding"
   ]
  },
  {
   "cell_type": "code",
   "execution_count": 7,
   "metadata": {},
   "outputs": [],
   "source": [
    "#dictionaries for converting tokens into their corresponding indices (and reverse)\n",
    "#for both title and track vocabularies\n",
    "\n",
    "input_token_index = dict([(word, i+1) for i, word in enumerate(input_words)])\n",
    "target_token_index = dict([(word, i+1) for i, word in enumerate(target_words)])\n",
    "\n",
    "reverse_input_char_index = dict((i, word) for word, i in input_token_index.items())\n",
    "reverse_target_char_index = dict((i, word) for word, i in target_token_index.items())"
   ]
  },
  {
   "cell_type": "code",
   "execution_count": 11,
   "metadata": {},
   "outputs": [
    {
     "data": {
      "text/html": [
       "<div>\n",
       "<style scoped>\n",
       "    .dataframe tbody tr th:only-of-type {\n",
       "        vertical-align: middle;\n",
       "    }\n",
       "\n",
       "    .dataframe tbody tr th {\n",
       "        vertical-align: top;\n",
       "    }\n",
       "\n",
       "    .dataframe thead th {\n",
       "        text-align: right;\n",
       "    }\n",
       "</style>\n",
       "<table border=\"1\" class=\"dataframe\">\n",
       "  <thead>\n",
       "    <tr style=\"text-align: right;\">\n",
       "      <th></th>\n",
       "      <th>Playlist Title</th>\n",
       "      <th>Track List</th>\n",
       "    </tr>\n",
       "  </thead>\n",
       "  <tbody>\n",
       "    <tr>\n",
       "      <td>7968</td>\n",
       "      <td>START_ winter 1819 _END</td>\n",
       "      <td>sunflower  spiderman into the spiderverse ever...</td>\n",
       "    </tr>\n",
       "    <tr>\n",
       "      <td>5271</td>\n",
       "      <td>START_ preshow pregame _END</td>\n",
       "      <td>hey mami nasa break up with your girlfriend im...</td>\n",
       "    </tr>\n",
       "    <tr>\n",
       "      <td>3145</td>\n",
       "      <td>START_ new years eve by icona pop _END</td>\n",
       "      <td>slippery slope jonny boy sound of violence aer...</td>\n",
       "    </tr>\n",
       "    <tr>\n",
       "      <td>2272</td>\n",
       "      <td>START_ 1968 _END</td>\n",
       "      <td>love is blue honey  1991  remaster sittin on t...</td>\n",
       "    </tr>\n",
       "    <tr>\n",
       "      <td>8285</td>\n",
       "      <td>START_ summer camp feel good _END</td>\n",
       "      <td>el perdãâãâãâãâ³n hey ya yaalili wavin ...</td>\n",
       "    </tr>\n",
       "  </tbody>\n",
       "</table>\n",
       "</div>"
      ],
      "text/plain": [
       "                              Playlist Title  \\\n",
       "7968                 START_ winter 1819 _END   \n",
       "5271             START_ preshow pregame _END   \n",
       "3145  START_ new years eve by icona pop _END   \n",
       "2272                        START_ 1968 _END   \n",
       "8285       START_ summer camp feel good _END   \n",
       "\n",
       "                                             Track List  \n",
       "7968  sunflower  spiderman into the spiderverse ever...  \n",
       "5271  hey mami nasa break up with your girlfriend im...  \n",
       "3145  slippery slope jonny boy sound of violence aer...  \n",
       "2272  love is blue honey  1991  remaster sittin on t...  \n",
       "8285  el perdãâãâãâãâ³n hey ya yaalili wavin ...  "
      ]
     },
     "execution_count": 11,
     "metadata": {},
     "output_type": "execute_result"
    }
   ],
   "source": [
    "data = shuffle(data)\n",
    "data.head()"
   ]
  },
  {
   "cell_type": "code",
   "execution_count": 12,
   "metadata": {},
   "outputs": [
    {
     "data": {
      "text/plain": [
       "((9021,), (1003,))"
      ]
     },
     "execution_count": 12,
     "metadata": {},
     "output_type": "execute_result"
    }
   ],
   "source": [
    "#separate the data into training (90%) and testing data (10%)\n",
    "\n",
    "x,y = data['Track List'], data['Playlist Title']\n",
    "x_train,x_test, y_train, y_test = train_test_split(x, y, test_size=0.1)\n",
    "x_train.shape, x_test.shape"
   ]
  },
  {
   "cell_type": "code",
   "execution_count": 13,
   "metadata": {},
   "outputs": [],
   "source": [
    "#generator function which generates a batch of data, given the training data and a specified batch size\n",
    "\n",
    "def gen_batch(x=x_train, y=y_train, batch_size=128):\n",
    "    while True:\n",
    "        for i in range(0,len(x),batch_size):\n",
    "            encoder_input_data = np.zeros((batch_size, max_len_tracks), dtype='float32')\n",
    "            decoder_input_data = np.zeros((batch_size, max_len_title), dtype='float32')\n",
    "            decoder_target_data = np.zeros((batch_size, max_len_title, num_decoder_tokens), dtype='float32')\n",
    "            for j,(input_text, target_text) in enumerate(zip(x[i:i+batch_size], y[i:i+batch_size])):\n",
    "                for t,word in enumerate(input_text.split()):\n",
    "                    encoder_input_data[j,t]=input_token_index[word]\n",
    "                for t,word in enumerate(target_text.split()):\n",
    "                    if t < len(target_text.split())-1:\n",
    "                        decoder_input_data[j,t]=target_token_index[word]\n",
    "                    if t > 0:\n",
    "                        decoder_target_data[j, t-1, target_token_index[word]]=1\n",
    "            yield([encoder_input_data, decoder_input_data],decoder_target_data)"
   ]
  },
  {
   "cell_type": "code",
   "execution_count": 14,
   "metadata": {},
   "outputs": [],
   "source": [
    "#build the encoder-decoder model\n",
    "\n",
    "latent_dim = 50\n",
    "\n",
    "#encoder\n",
    "\n",
    "encoder_inputs = Input(shape=(None,))\n",
    "enc_embed = Embedding(num_encoder_tokens+1, latent_dim, mask_zero = True)(encoder_inputs)\n",
    "encoder_lstm = LSTM(latent_dim, return_state = True)\n",
    "encoder_outputs, state_h, state_c = encoder_lstm(enc_embed)\n",
    "encoder_states = [state_h, state_c]\n",
    "\n",
    "\n",
    "#decoder\n",
    "\n",
    "decoder_inputs = Input(shape=(None,))\n",
    "dec_embed_layer = Embedding(num_decoder_tokens, latent_dim, mask_zero = True)\n",
    "dec_embed = dec_embed_layer(decoder_inputs)\n",
    "\n",
    "decoder_lstm = LSTM(latent_dim, return_sequences=True, return_state=True)\n",
    "decoder_outputs, _, _ = decoder_lstm(dec_embed, initial_state=encoder_states)\n",
    "decoder_dense_layer = Dense(num_decoder_tokens, activation = 'softmax')\n",
    "decoder_outputs = decoder_dense_layer(decoder_outputs)\n",
    "\n",
    "\n",
    "#encoder-decoder model\n",
    "model = Model([encoder_inputs, decoder_inputs], decoder_outputs)"
   ]
  },
  {
   "cell_type": "code",
   "execution_count": 15,
   "metadata": {},
   "outputs": [],
   "source": [
    "#compile the model\n",
    "model.compile(optimizer='rmsprop', loss='categorical_crossentropy', metrics=['acc'])"
   ]
  },
  {
   "cell_type": "code",
   "execution_count": 16,
   "metadata": {},
   "outputs": [
    {
     "name": "stderr",
     "output_type": "stream",
     "text": [
      "/Users/chelseavickers/anaconda3/lib/python3.7/site-packages/tensorflow_core/python/framework/indexed_slices.py:433: UserWarning: Converting sparse IndexedSlices to a dense Tensor of unknown shape. This may consume a large amount of memory.\n",
      "  \"Converting sparse IndexedSlices to a dense Tensor of unknown shape. \"\n"
     ]
    },
    {
     "name": "stdout",
     "output_type": "stream",
     "text": [
      "Epoch 1/20\n",
      "70/70 [==============================] - 257s 4s/step - loss: 1.1856 - acc: 0.2717 - val_loss: 0.9974 - val_acc: 0.2800\n",
      "Epoch 2/20\n",
      "70/70 [==============================] - 249s 4s/step - loss: 0.9844 - acc: 0.2763 - val_loss: 1.0249 - val_acc: 0.2768\n",
      "Epoch 3/20\n",
      "70/70 [==============================] - 246s 4s/step - loss: 0.9667 - acc: 0.2769 - val_loss: 1.0255 - val_acc: 0.2792\n",
      "Epoch 4/20\n",
      "70/70 [==============================] - 247s 4s/step - loss: 0.9491 - acc: 0.2769 - val_loss: 0.9130 - val_acc: 0.2790\n",
      "Epoch 5/20\n",
      "70/70 [==============================] - 247s 4s/step - loss: 0.9355 - acc: 0.2774 - val_loss: 1.0809 - val_acc: 0.2797\n",
      "Epoch 6/20\n",
      "70/70 [==============================] - 246s 4s/step - loss: 0.9241 - acc: 0.2820 - val_loss: 0.9813 - val_acc: 0.2870\n",
      "Epoch 7/20\n",
      "70/70 [==============================] - 247s 4s/step - loss: 0.9130 - acc: 0.2833 - val_loss: 1.1138 - val_acc: 0.2842\n",
      "Epoch 8/20\n",
      "70/70 [==============================] - 245s 3s/step - loss: 0.9049 - acc: 0.2831 - val_loss: 0.9198 - val_acc: 0.2878\n",
      "Epoch 9/20\n",
      "70/70 [==============================] - 247s 4s/step - loss: 0.8941 - acc: 0.2839 - val_loss: 1.0100 - val_acc: 0.2825\n",
      "Epoch 10/20\n",
      "70/70 [==============================] - 246s 4s/step - loss: 0.8844 - acc: 0.2865 - val_loss: 1.0403 - val_acc: 0.2803\n",
      "Epoch 11/20\n",
      "70/70 [==============================] - 246s 4s/step - loss: 0.8759 - acc: 0.2882 - val_loss: 1.0361 - val_acc: 0.2786\n",
      "Epoch 12/20\n",
      "70/70 [==============================] - 248s 4s/step - loss: 0.8676 - acc: 0.2898 - val_loss: 0.9431 - val_acc: 0.2733\n",
      "Epoch 13/20\n",
      "70/70 [==============================] - 247s 4s/step - loss: 0.8577 - acc: 0.2908 - val_loss: 1.1159 - val_acc: 0.2753\n",
      "Epoch 14/20\n",
      "70/70 [==============================] - 247s 4s/step - loss: 0.8520 - acc: 0.2916 - val_loss: 1.0157 - val_acc: 0.2835\n",
      "Epoch 15/20\n",
      "70/70 [==============================] - 246s 4s/step - loss: 0.8438 - acc: 0.2923 - val_loss: 1.1447 - val_acc: 0.2734\n",
      "Epoch 16/20\n",
      "70/70 [==============================] - 246s 4s/step - loss: 0.8364 - acc: 0.2934 - val_loss: 0.9521 - val_acc: 0.2746\n",
      "Epoch 17/20\n",
      "70/70 [==============================] - 245s 4s/step - loss: 0.8299 - acc: 0.2944 - val_loss: 1.0508 - val_acc: 0.2672\n",
      "Epoch 18/20\n",
      "70/70 [==============================] - 245s 4s/step - loss: 0.8227 - acc: 0.2953 - val_loss: 1.0813 - val_acc: 0.2667\n",
      "Epoch 19/20\n",
      "70/70 [==============================] - 245s 4s/step - loss: 0.8161 - acc: 0.2975 - val_loss: 1.0665 - val_acc: 0.2655\n",
      "Epoch 20/20\n",
      "70/70 [==============================] - 247s 4s/step - loss: 0.8102 - acc: 0.2984 - val_loss: 0.9609 - val_acc: 0.2624\n"
     ]
    },
    {
     "data": {
      "text/plain": [
       "<keras.callbacks.callbacks.History at 0x14a4fab10>"
      ]
     },
     "execution_count": 16,
     "metadata": {},
     "output_type": "execute_result"
    }
   ],
   "source": [
    "#specify the training parameters and configure the model for training\n",
    "\n",
    "train_samples = len(x_train)\n",
    "val_samples = len(x_test)\n",
    "batch_size = 128\n",
    "epochs = 20\n",
    "\n",
    "model.fit_generator(generator = gen_batch(x_train, y_train, batch_size = batch_size),\n",
    "                    steps_per_epoch = train_samples//batch_size,\n",
    "                    epochs=epochs,\n",
    "                    validation_data = gen_batch(x_test, y_test, batch_size = batch_size),\n",
    "                    validation_steps = val_samples//batch_size)"
   ]
  },
  {
   "cell_type": "code",
   "execution_count": 17,
   "metadata": {},
   "outputs": [],
   "source": [
    "#save the weights\n",
    "model.save_weights('nmt_weights.h5')"
   ]
  },
  {
   "cell_type": "code",
   "execution_count": null,
   "metadata": {},
   "outputs": [],
   "source": [
    "#if needed, load the weights\n",
    "model.load_weights('nmt_weights.h5')"
   ]
  },
  {
   "cell_type": "code",
   "execution_count": 18,
   "metadata": {},
   "outputs": [],
   "source": [
    "#encode the input sequence\n",
    "encoder_model = Model(encoder_inputs, encoder_states)\n",
    "\n",
    "decoder_states_inputs = [Input(shape=(latent_dim,)),Input(shape=(latent_dim,))]\n",
    "\n",
    "#get the decoder sequence embeddings\n",
    "dec_embed2=dec_embed_layer(decoder_inputs)\n",
    "\n",
    "#set the initial states to the states from previous time step to predict next word in the sequence\n",
    "decoder_outputs2,state_h2,state_c2 = decoder_lstm(dec_embed2, initial_state=decoder_states_inputs)\n",
    "decoder_states2 = [state_h2,state_c2]\n",
    "decoder_outputs2 = decoder_dense_layer(decoder_outputs2)\n",
    "\n",
    "#final decoder\n",
    "decoder_model = Model([decoder_inputs]+decoder_states_inputs,[decoder_outputs2]+decoder_states2)"
   ]
  },
  {
   "cell_type": "code",
   "execution_count": 19,
   "metadata": {},
   "outputs": [],
   "source": [
    "#function to decode input sequences\n",
    "\n",
    "def decode_seq(input_seq):\n",
    "    #encode input as state vectors\n",
    "    states_value = encoder_model.predict(input_seq)\n",
    "    \n",
    "    #initialize empty target sequence of size 1\n",
    "    target_seq = np.zeros((1,1))\n",
    "    target_seq[0,0] = target_token_index['START_']\n",
    "    \n",
    "    #loop through batch of sequences (assume batch size = 1 for simplification purposes)\n",
    "    stop = False\n",
    "    decoded = ''\n",
    "    while not stop:\n",
    "        output_tokens,h,c = decoder_model.predict([target_seq]+states_value)\n",
    "        \n",
    "        #get a sample output token\n",
    "        sample_token_index = np.argmax(output_tokens[0,-1,:])\n",
    "        sample_char = reverse_target_char_index[sample_token_index]\n",
    "        decoded += ' ' + sample_char\n",
    "        \n",
    "        #trigger exit condition because either at the end of the sample token or hit max length\n",
    "        if (sample_char=='_END' or len(decoded)>50):\n",
    "            stop = True\n",
    "        \n",
    "        #update target sequence and states\n",
    "        target_seq = np.zeros((1,1))\n",
    "        target_seq[0,0] = sample_token_index\n",
    "        states_value=[h,c]\n",
    "        \n",
    "    return decoded"
   ]
  },
  {
   "cell_type": "code",
   "execution_count": 20,
   "metadata": {},
   "outputs": [],
   "source": [
    "\n",
    "#evaluate with training data\n"
   ]
  },
  {
   "cell_type": "code",
   "execution_count": 22,
   "metadata": {
    "scrolled": true
   },
   "outputs": [],
   "source": [
    "train_gen = gen_batch(x_train,y_train,batch_size=1)\n",
    "k=-1"
   ]
  },
  {
   "cell_type": "code",
   "execution_count": 23,
   "metadata": {},
   "outputs": [
    {
     "name": "stdout",
     "output_type": "stream",
     "text": [
      "[[ 501. 5763. 3278.    0.    0.    0.    0.    0.    0.    0.    0.    0.\n",
      "     0.    0.    0.    0.    0.    0.    0.    0.    0.    0.]]\n",
      "Tracks: monica feat tech n9ne 100 bands whoop tang flow feat raekwon minor gangsters gully i was sad last night im ok now top of the morning what we on diet ego check dangerookipawaa freestyle jumpin in rome ginobili cameras eggs industry games dmtri metal wings iceman voices slip draino feat denzel curry hunnid feat joyce wrice bye felicia wassup phonies angelic hoodrat the bean kicked in handful hollyhood feat kent jamz shrimp at phillipes feat benny the butcher moon  stars feat maggie lindemann on me treehouse what i please feat denzel curry george bondo all dogs go to heaven meathead carbonated water first to last pisces distance beautiful brixton miami fuck your culture dr birds i heard you were looking for me ryu  ken drug lullaby different break it down magical\n",
      "Actual Playlist Title:  spilled ink \n",
      "Predicted Playlist Title:  cold \n"
     ]
    }
   ],
   "source": [
    "k+=1\n",
    "(input_seq,actual_output),_=next(train_gen)\n",
    "print(actual_output)\n",
    "decoded=decode_seq(input_seq)\n",
    "print('Tracks:', x_train[k:k+1].values[0])\n",
    "print('Actual Playlist Title:', y_train[k:k+1].values[0][6:-4])\n",
    "print('Predicted Playlist Title:', decoded[:-4])"
   ]
  },
  {
   "cell_type": "code",
   "execution_count": 24,
   "metadata": {},
   "outputs": [
    {
     "name": "stdout",
     "output_type": "stream",
     "text": [
      "[[ 501. 1553. 3608.    0.    0.    0.    0.    0.    0.    0.    0.    0.\n",
      "     0.    0.    0.    0.    0.    0.    0.    0.    0.    0.]]\n",
      "Tracks: ftarri  tokyo  oct 14th 2013 simulacrum ivii refound  1 inference to the best explanation symbiogenesis osa vaya for organ and brass breath for organ\n",
      "Actual Playlist Title:  claire krtu \n",
      "Predicted Playlist Title:  editors de ãâãâ¢ ãâãâ¢ ãâãâ¢ ãâãâ¢ ãâ\n"
     ]
    }
   ],
   "source": [
    "k+=1\n",
    "(input_seq,actual_output),_=next(train_gen)\n",
    "print(actual_output)\n",
    "decoded=decode_seq(input_seq)\n",
    "print('Tracks:', x_train[k:k+1].values[0])\n",
    "print('Actual Playlist Title:', y_train[k:k+1].values[0][6:-4])\n",
    "print('Predicted Playlist Title:', decoded[:-4])"
   ]
  },
  {
   "cell_type": "code",
   "execution_count": 25,
   "metadata": {},
   "outputs": [
    {
     "name": "stdout",
     "output_type": "stream",
     "text": [
      "[[ 501. 6126. 3799.  688. 6724. 5180.    0.    0.    0.    0.    0.    0.\n",
      "     0.    0.    0.    0.    0.    0.    0.    0.    0.    0.]]\n",
      "Tracks: please please me  mono  remastered twist and shout  remastered i saw her standing there  remastered baby its you  remastered she loves you  mono  remastered i want to hold your hand  remastered 2015 roll over beethoven  remastered i wanna be your man  remastered till there was you  remastered money thats what i want  remastered cant buy me love  remastered 2015 and i love her  remastered a hard days night  remastered eight days a week  remastered rock and roll music  remastered everybodys trying to be my baby  remastered ticket to ride  remastered youve got to hide your love away  remastered yesterday  remastered nowhere man  remastered im looking through you  remastered norwegian wood this bird has flown  remastered michelle  remastered drive my car  remastered got to get you into my life  remastered im only sleeping  remastered and your bird can sing  remastered taxman  remastered yellow submarine  remastered strawberry fields forever  remastered with a little help from my friends  remix lucy in the sky with diamonds  remix a day in the life  remix all you need is love  remastered hello goodbye  remastered your mother should know  remastered dear prudence  2018 mix while my guitar gently weeps  2018 mix why dont we do it in the road  2018 mix everybodys got something to hide except me and my monkey  remastered revolution 9  2018 mix come together  remastered something  remastered let it be  remastered the long and winding road  remastered 2015\n",
      "Actual Playlist Title:  the long and winding road \n",
      "Predicted Playlist Title:  the the the the the the the the the the the the\n"
     ]
    }
   ],
   "source": [
    "k+=1\n",
    "(input_seq,actual_output),_=next(train_gen)\n",
    "print(actual_output)\n",
    "decoded=decode_seq(input_seq)\n",
    "print('Tracks:', x_train[k:k+1].values[0])\n",
    "print('Actual Playlist Title:', y_train[k:k+1].values[0][6:-4])\n",
    "print('Predicted Playlist Title:', decoded[:-4])"
   ]
  },
  {
   "cell_type": "code",
   "execution_count": 26,
   "metadata": {},
   "outputs": [
    {
     "name": "stdout",
     "output_type": "stream",
     "text": [
      "[[ 501. 6076.    0.    0.    0.    0.    0.    0.    0.    0.    0.    0.\n",
      "     0.    0.    0.    0.    0.    0.    0.    0.    0.    0.]]\n",
      "Tracks: swimming in the moonlight perfect places toothpaste kisses winter of our youth open season give it time silver moon moon river from breakfast at tiffanys remastered mad sounds buzzcut season wait for me the loved ones sleep alone warmth dancing on quicksand cest la vie dancing in the dark gemini feed angela sweet disposition rock bottom first love are you calling africa ill keep you safe after the storm in a week feat karen cowley 17 in a little while up  theme from the motion picture the moon song  studio version duet black mambo hallelujah come on eileen space song house of gold roman holiday somewhere only we know tongue tied oblivion audition the fools who dream mia  sebastianãâãâ¢ãâãâãâãâs theme drops of jupiter the girl cherry wine  live sleep on the floor flaws the rain the park  other things  single version supercut the louvre oblivion greek tragedy glory oblivion durban skies laughter lines waves  tame impala remix the night we met someone new all my loving  from across the universe soundtrack real love take care boat song\n",
      "Actual Playlist Title:  taylor \n",
      "Predicted Playlist Title:  starred \n"
     ]
    }
   ],
   "source": [
    "k+=1\n",
    "(input_seq,actual_output),_=next(train_gen)\n",
    "print(actual_output)\n",
    "decoded=decode_seq(input_seq)\n",
    "print('Tracks:', x_train[k:k+1].values[0])\n",
    "print('Actual Playlist Title:', y_train[k:k+1].values[0][6:-4])\n",
    "print('Predicted Playlist Title:', decoded[:-4])"
   ]
  },
  {
   "cell_type": "code",
   "execution_count": 27,
   "metadata": {},
   "outputs": [
    {
     "name": "stdout",
     "output_type": "stream",
     "text": [
      "[[ 501. 2568. 3662.    0.    0.    0.    0.    0.    0.    0.    0.    0.\n",
      "     0.    0.    0.    0.    0.    0.    0.    0.    0.    0.]]\n",
      "Tracks: in  out  baardsen remix cadillac girl i am the lion king molasses fiona coyne wont get away omen  radio edit call you out lines  demo version nakamarra cant you tell reconstruct feat seafloor the less i know the better lost tonight real june past lives i know theres gonna be good times feat popcaan watch my back nevermind the end distance my girls them changes feat flying lotus  kamasi washington afro blue loversãâãâ¢ãâãâãâãâ carvings country a calf born in winter 20th century fix  warm weather since i left you decisions pressure realla falling short why didnt you call mothers love dont stretch might be girl feat kaytranada stay with us broken soldier\n",
      "Actual Playlist Title:  for laura \n",
      "Predicted Playlist Title:  summer \n"
     ]
    }
   ],
   "source": [
    "k+=1\n",
    "(input_seq,actual_output),_=next(train_gen)\n",
    "print(actual_output)\n",
    "decoded=decode_seq(input_seq)\n",
    "print('Tracks:', x_train[k:k+1].values[0])\n",
    "print('Actual Playlist Title:', y_train[k:k+1].values[0][6:-4])\n",
    "print('Predicted Playlist Title:', decoded[:-4])"
   ]
  },
  {
   "cell_type": "code",
   "execution_count": 28,
   "metadata": {},
   "outputs": [
    {
     "name": "stdout",
     "output_type": "stream",
     "text": [
      "[[ 501. 6002. 5685.    0.    0.    0.    0.    0.    0.    0.    0.    0.\n",
      "     0.    0.    0.    0.    0.    0.    0.    0.    0.    0.]]\n",
      "Tracks: sol vind och vatten sommartider sommaren ãâãâãâãâ¤r kort sommaren i city ãâãâãâãâppna landskap dina fãâãâãâãâ¤rger var blãâãâãâãâ¥ ãâãâãâãânglamark att angãâãâãâãâ¶ra en brygga oh vilken hãâãâãâãâ¤rlig da om ett sista glas kung av sand visa vid vindens ãâãâãâãâ¤ngar sommarnatt  1999 hon kommer med solsken en dag pãâãâãâãâ¥ stranden vãâãâãâãâ¥gorna nãâãâãâãâ¤r vi grãâãâãâãâ¤ver guld i usa en kvãâãâãâãâ¤ll i juni juni juli augusti oh boy omãâãâãâãâ¥omigen ta mig till havet dansa pausa de dagar vi drãâãâãâãâ¶mt om vingar himlen ãâãâãâãâ¤r oskyldigt blãâãâãâãâ¥ smãâãâãâãâ¥ lãâãâãâãâ¤tta moln  studioversion sommar och sol sommarkort ingen sommar utan reggae gãâãâãâãâ¶r mig lycklig nu magaluf hãâãâãâãâ¤r kommer sommaren turistens klagan sommar och sol ãâãâãâãâ¤r det bãâãâãâãâ¤sta jag vet vatten sverige dãâãâãâãâ© ãâãâãâãâ© sommar himlen ãâãâãâãâ¤r oskyldigt blãâãâãâãâ¥ sommar inatt fiskarna i haven smãâãâãâãâ¥ lãâãâãâãâ¤tta moln  live fãâãâãâãâ¥nga en sommar folkol och dunkadunka hanna frãâãâãâãâ¥n arlãâãâãâãâ¶v papaya coconut dunka mig gul  blãâãâãâãâ¥ himlen ãâãâãâãâ¤r oskyldigt blãâãâãâãâ¥ fyra bugg  en cocacola sommarens sista sãâãâãâãâ¥ng  radio edit hon kommer med sommaren sãâãâãâãâ¥ngerna om sommaren en midsommaraftons drãâãâãâãâ¶m  edit 2018 bãâãâãâãâ¥tlãâãâãâãâ¥t  1998 remastered version sommar reggae semester grãâãâãâãâ¶na granna skãâãâãâãâ¶na sanna sommar vackert vãâãâãâãâ¤der sommartid idas sommarvisa till stockholms skãâãâãâãâ¤rgãâãâãâãâ¥rd sommartid sãâãâãâãâ¥ skimrande var aldrig havet\n",
      "Actual Playlist Title:  svenska sommarklassiker \n",
      "Predicted Playlist Title:  cold \n"
     ]
    }
   ],
   "source": [
    "k+=1\n",
    "(input_seq,actual_output),_=next(train_gen)\n",
    "print(actual_output)\n",
    "decoded=decode_seq(input_seq)\n",
    "print('Tracks:', x_train[k:k+1].values[0])\n",
    "print('Actual Playlist Title:', y_train[k:k+1].values[0][6:-4])\n",
    "print('Predicted Playlist Title:', decoded[:-4])"
   ]
  },
  {
   "cell_type": "code",
   "execution_count": 47,
   "metadata": {},
   "outputs": [
    {
     "name": "stdout",
     "output_type": "stream",
     "text": [
      "[[ 501. 2023. 2104.    0.    0.    0.    0.    0.    0.    0.    0.    0.\n",
      "     0.    0.    0.    0.    0.    0.    0.    0.    0.    0.]]\n",
      "Tracks: another you paradise voices lean on say youll be there holding on f for you you know you like it lost  found  kastle remix bang that need u 100  radio edit i got u beggin for thread warm water  snakehips remix beautiful now find you straight into the fire addicted to a memory under control feat hurts love now feat all about she dollar signs feat tinashe for you this is what it feels like underneath the sky do or die  afrojack vs thirty seconds to mars remix born to run firefly  bravado dubstep remix bad girls heads will roll  atrak remix i cant stop drinking about you  chainsmokers remix blind heart  radio edit up we go running with the boys i cant stop drinking about you replay hide away renegades where are ãâãâãâãâ now with justin bieber kanye cool for the summer high for this the hills\n",
      "Actual Playlist Title:  dj driving \n",
      "Predicted Playlist Title:  spring top \n"
     ]
    }
   ],
   "source": [
    "k+=1\n",
    "(input_seq,actual_output),_=next(train_gen)\n",
    "print(actual_output)\n",
    "decoded=decode_seq(input_seq)\n",
    "print('Tracks:', x_train[k:k+1].values[0])\n",
    "print('Actual Playlist Title:', y_train[k:k+1].values[0][6:-4])\n",
    "print('Predicted Playlist Title:', decoded[:-4])"
   ]
  },
  {
   "cell_type": "code",
   "execution_count": 29,
   "metadata": {},
   "outputs": [],
   "source": [
    "\n",
    "#evaluate with testing data\n"
   ]
  },
  {
   "cell_type": "code",
   "execution_count": 30,
   "metadata": {},
   "outputs": [],
   "source": [
    "test_gen = gen_batch(x_test, y_test, batch_size = 1)\n",
    "k=-1"
   ]
  },
  {
   "cell_type": "code",
   "execution_count": 31,
   "metadata": {},
   "outputs": [
    {
     "name": "stdout",
     "output_type": "stream",
     "text": [
      "[[ 501. 5711. 5386.    0.    0.    0.    0.    0.    0.    0.    0.    0.\n",
      "     0.    0.    0.    0.    0.    0.    0.    0.    0.    0.]]\n",
      "Tracks: daylight feat daniela andrade ryan hemsworth lontalius  olli bara du every time i go home find wild feat khai its you forever being arms out of focus friends  recorded at spotify studios nyc wake up full moon song coffee amadeus all the time dont worry be happy where you are  acoustic electric feel arc drift here if you want pale blue better better off home flowers in your hair boardwalks  sonny alven remix higher ground feat naomi wild gold angel truth apocalypse catch  release deepend remix extended version direction pulling me under older sensitive heart ayahuasca\n",
      "Actual Playlist Title:  soul search \n",
      "Predicted Playlist Title:  starred \n"
     ]
    }
   ],
   "source": [
    "k+=1\n",
    "(input_seq,actual_output),_=next(test_gen)\n",
    "print(actual_output)\n",
    "decoded=decode_seq(input_seq)\n",
    "print('Tracks:', x_test[k:k+1].values[0])\n",
    "print('Actual Playlist Title:', y_test[k:k+1].values[0][6:-4])\n",
    "print('Predicted Playlist Title:', decoded[:-4])"
   ]
  },
  {
   "cell_type": "code",
   "execution_count": 32,
   "metadata": {
    "scrolled": true
   },
   "outputs": [
    {
     "name": "stdout",
     "output_type": "stream",
     "text": [
      "[[ 501. 6126. 6636. 6899. 5715.    0.    0.    0.    0.    0.    0.    0.\n",
      "     0.    0.    0.    0.    0.    0.    0.    0.    0.    0.]]\n",
      "Tracks: amsterdam rounder holocene asleep  2008 remaster the stable song real love baby pretty girl from cedar lane the muse jackie and wilson you are the best thing 40 day dream iplayyoulisten amsterdam peaches ghosts sedona caring is creepy little lies  2017 remaster my kind of lady tompkins square park dreams  2004 remaster slow motion rhiannon coming home tiger striped sky bloodflood dream a little dream of me blue ruin here in my arms light year my eyes unforgettable op jebediah majorette she always takes it black wallowa lake monster verona home pt 1  2 the ballad of keenan milton patience the universe\n",
      "Actual Playlist Title:  the way you sound \n",
      "Predicted Playlist Title:  spring jams \n"
     ]
    }
   ],
   "source": [
    "k+=1\n",
    "(input_seq,actual_output),_=next(test_gen)\n",
    "print(actual_output)\n",
    "decoded=decode_seq(input_seq)\n",
    "print('Tracks:', x_test[k:k+1].values[0])\n",
    "print('Actual Playlist Title:', y_test[k:k+1].values[0][6:-4])\n",
    "print('Predicted Playlist Title:', decoded[:-4])"
   ]
  },
  {
   "cell_type": "code",
   "execution_count": 33,
   "metadata": {},
   "outputs": [
    {
     "name": "stdout",
     "output_type": "stream",
     "text": [
      "[[ 501. 5687.  895.    0.    0.    0.    0.    0.    0.    0.    0.    0.\n",
      "     0.    0.    0.    0.    0.    0.    0.    0.    0.    0.]]\n",
      "Tracks: sexual what lovers do feat sza how long how long locked out of heaven roxanne  remastered 2003 im not your toy rio graceland unbelievers girl almighty 5 oclock feat lily allen  wiz khalifa whod have known shine white ferrari here there and everywhere  remastered 2009 god only knows  remastered get free creep the air that i breathe  2008 remaster mr watson sloop john b  remastered call my dad torn the lengths sunny runaway sinner boots not fair rainbowland feat dolly parton two ghosts you and i man i feel like a woman the wire nothing can change this love lovin touchin squeezin 40 day dream since were alone dreams  2004 remaster childs play feat chance the rapper blessings feat ty dolla ign anderson paak bj the chicago kid raury  jamila woods in your phone with lauren jauregui strangers the feeling deja vu homemade dynamite  remix location feat lil wayne  kehlani  remix crash  burn so simple plot twist wanna be cool feels feat pharrell williams katy perry  big sean the weekend  funk wav remix drugs idfc love me harder heathens sick boy morning in america coming down are things still burning the fall watch mrs potato head drive radio when its right into it dress two weeks touch curious dancing on my own supercut boy problems take me california slut chain of fools mercy rehab i want it give me a try go for it prime swim bodyache cigarette daydreams forrest gump electric love hometown girl copper kiss heartlines 29 hoops  acoustic jackie and wilson falling past lives take a walk\n",
      "Actual Playlist Title:  song bank \n",
      "Predicted Playlist Title:  starred \n"
     ]
    }
   ],
   "source": [
    "k+=1\n",
    "(input_seq,actual_output),_=next(test_gen)\n",
    "print(actual_output)\n",
    "decoded=decode_seq(input_seq)\n",
    "print('Tracks:', x_test[k:k+1].values[0])\n",
    "print('Actual Playlist Title:', y_test[k:k+1].values[0][6:-4])\n",
    "print('Predicted Playlist Title:', decoded[:-4])"
   ]
  },
  {
   "cell_type": "code",
   "execution_count": 34,
   "metadata": {},
   "outputs": [
    {
     "name": "stdout",
     "output_type": "stream",
     "text": [
      "[[ 501.  814. 5717.    0.    0.    0.    0.    0.    0.    0.    0.    0.\n",
      "     0.    0.    0.    0.    0.    0.    0.    0.    0.    0.]]\n",
      "Tracks: dearly departed feat esmãâãâãâãâ© patterson piece of my heart the way we get by your hand in mine two matchsticks pride and joy street joy bad vibrations shes about a mover gods dream pepper bright lights are you alright bitch i love you good intentions lost coastlines summertime punk as fuck is anybody going to san antone  single version do you silverado bench seat on the road again  live naked as we came build me up from bones youre gonna miss me choctaw bingo back and forth pancho  lefty spring forward tuff enuff the ghost within lights  from sons of anarchy backwater i lie when i drink masollan man of the world a chronicle of early failures  part 1 cliffs of dover  instrumental there is a time feat kelsey wilson gold in the air dungtitled in a major\n",
      "Actual Playlist Title:  austin sounds \n",
      "Predicted Playlist Title:  spring jams \n"
     ]
    }
   ],
   "source": [
    "k+=1\n",
    "(input_seq,actual_output),_=next(test_gen)\n",
    "print(actual_output)\n",
    "decoded=decode_seq(input_seq)\n",
    "print('Tracks:', x_test[k:k+1].values[0])\n",
    "print('Actual Playlist Title:', y_test[k:k+1].values[0][6:-4])\n",
    "print('Predicted Playlist Title:', decoded[:-4])"
   ]
  },
  {
   "cell_type": "code",
   "execution_count": 35,
   "metadata": {},
   "outputs": [
    {
     "name": "stdout",
     "output_type": "stream",
     "text": [
      "[[ 501. 4492. 1285. 2800.    0.    0.    0.    0.    0.    0.    0.    0.\n",
      "     0.    0.    0.    0.    0.    0.    0.    0.    0.    0.]]\n",
      "Tracks: the sweet escape yeah feat lil jon  ludacris\n",
      "Actual Playlist Title:  oldies but goodies \n",
      "Predicted Playlist Title:  arab \n"
     ]
    }
   ],
   "source": [
    "k+=1\n",
    "(input_seq,actual_output),_=next(test_gen)\n",
    "print(actual_output)\n",
    "decoded=decode_seq(input_seq)\n",
    "print('Tracks:', x_test[k:k+1].values[0])\n",
    "print('Actual Playlist Title:', y_test[k:k+1].values[0][6:-4])\n",
    "print('Predicted Playlist Title:', decoded[:-4])"
   ]
  },
  {
   "cell_type": "code",
   "execution_count": 36,
   "metadata": {},
   "outputs": [
    {
     "name": "stdout",
     "output_type": "stream",
     "text": [
      "[[ 501. 5232. 5173.    0.    0.    0.    0.    0.    0.    0.    0.    0.\n",
      "     0.    0.    0.    0.    0.    0.    0.    0.    0.    0.]]\n",
      "Tracks: san luis i forget myself feat darlingside our remains  acoustic rome good old days turntable samara beige ill be out here pharmakon by and by twist and its still alright ill be gone you would have to lose your mind strangers strangers the parting glass  live from the late late show backbone a trick of the light october the swimmer to be an old man you sigh dynamite people need a melody people change front porch such a simple thing real you wont be long bare cavalry the barrel silver lining better and better i wont run from it no woman glass fool i should live in salt  the national cover  live from spotify london i leave early eskimo coat side effects power over me  acoustic letter to madeline younger years justine like an eagle sedona johnny still life feat joseph hold your head up high love is everywhere beware punta cometa  dancing for the answers alt version the friary drift acoustic blind in the fray chateau  acoustic gloria thousand feat lisa hannigan hey larocco crowded table morning the eye i need a teacher all yourn does anybody know save this heart rose petals if i told bright as the day sorry now motion sickness demo  bonus track black sun horse to water rock holy feathered indians fta easy rider fly cattails dark child  single edit the meetings of the waters the breach tomorrow life is confusing  recorded at sound stage studios nashville more than you know  recorded at metropolis studios london cathedral beyond only lonely appalachia on the back porch going to the country saint elizabeth arrows siren song something to lose wish i knew you at the purchasers option how much old soul acoustic\n",
      "Actual Playlist Title:  roots rising \n",
      "Predicted Playlist Title:  acoustic top \n"
     ]
    }
   ],
   "source": [
    "k+=1\n",
    "(input_seq,actual_output),_=next(test_gen)\n",
    "print(actual_output)\n",
    "decoded=decode_seq(input_seq)\n",
    "print('Tracks:', x_test[k:k+1].values[0])\n",
    "print('Actual Playlist Title:', y_test[k:k+1].values[0][6:-4])\n",
    "print('Predicted Playlist Title:', decoded[:-4])"
   ]
  },
  {
   "cell_type": "code",
   "execution_count": 56,
   "metadata": {},
   "outputs": [
    {
     "name": "stdout",
     "output_type": "stream",
     "text": [
      "[[ 501. 2155. 6696.    0.    0.    0.    0.    0.    0.    0.    0.    0.\n",
      "     0.    0.    0.    0.    0.    0.    0.    0.    0.    0.]]\n",
      "Tracks: strawberry smoothie say it aint so told you id be with the guys where is my mind lithium tonight im wearing silk california here we go softer basket case androgynous mind i was born a unicorn kids hello operator i wanna be adored  remastered\n",
      "Actual Playlist Title:  strawberry smooooothue \n",
      "Predicted Playlist Title:  cold jams \n"
     ]
    }
   ],
   "source": [
    "k+=1\n",
    "(input_seq,actual_output),_=next(test_gen)\n",
    "print(actual_output)\n",
    "decoded=decode_seq(input_seq)\n",
    "print('Tracks:', x_test[k:k+1].values[0])\n",
    "print('Actual Playlist Title:', y_test[k:k+1].values[0][6:-4])\n",
    "print('Predicted Playlist Title:', decoded[:-4])"
   ]
  },
  {
   "cell_type": "code",
   "execution_count": null,
   "metadata": {},
   "outputs": [],
   "source": []
  }
 ],
 "metadata": {
  "kernelspec": {
   "display_name": "Python 3",
   "language": "python",
   "name": "python3"
  },
  "language_info": {
   "codemirror_mode": {
    "name": "ipython",
    "version": 3
   },
   "file_extension": ".py",
   "mimetype": "text/x-python",
   "name": "python",
   "nbconvert_exporter": "python",
   "pygments_lexer": "ipython3",
   "version": "3.7.4"
  }
 },
 "nbformat": 4,
 "nbformat_minor": 2
}
